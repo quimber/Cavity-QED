{
 "cells": [
  {
   "cell_type": "code",
   "execution_count": 4,
   "metadata": {},
   "outputs": [
    {
     "name": "stdout",
     "output_type": "stream",
     "text": [
      "2\n",
      "[[0.         2.         0.         0.         0.        ]\n",
      " [2.         0.         3.46410162 0.         0.        ]\n",
      " [0.         3.46410162 0.         4.24264069 0.        ]\n",
      " [0.         0.         4.24264069 0.         4.        ]\n",
      " [0.         0.         0.         4.         0.        ]]\n",
      "[[0.         2.         0.         0.         0.        ]\n",
      " [2.         0.         2.44948974 0.         0.        ]\n",
      " [0.         2.44948974 0.         2.44948974 0.        ]\n",
      " [0.         0.         2.44948974 0.         2.        ]\n",
      " [0.         0.         0.         2.         0.        ]]\n"
     ]
    }
   ],
   "source": [
    "import numpy as np\n",
    "import scipy\n",
    "from scipy.sparse import diags\n",
    "import math\n",
    "\n",
    "#putting the bunch of linear differential equations in a matrix form. As we know, this matrix\n",
    "#will be in the tridiagonal form.\n",
    "#For the first case, we keep both the atom and the photon contribution to the coefficients. Then, we drop\n",
    "#the photon contribution to look for some symmetry in the matrix.\n",
    "#all constants set to 1\n",
    "#getting the S value as the input\n",
    "S=float(input())\n",
    "m=S\n",
    "diag1=np.array([])\n",
    "while(m>-S):\n",
    "    ele=math.sqrt(S*(S+1)-m*(m-1))*math.sqrt(S-m+1)\n",
    "    diag1=np.append(diag1,ele)\n",
    "    m=m-1\n",
    "\n",
    "diag2=np.array([])\n",
    "p=S-1\n",
    "while(p>=-S):\n",
    "    ele=math.sqrt(S*(S+1)-p*(p+1))*math.sqrt(S-p)\n",
    "    diag2=np.append(diag2,ele)\n",
    "    p=p-1\n",
    "\n",
    "diagonals = [diag2,diag1] \n",
    "A =scipy.sparse.diags(diagonals, [-1,1], format='csc')\n",
    "B=A.toarray()\n",
    "\n",
    "print(B)\n",
    "\n",
    "m=S\n",
    "diag1=np.array([])\n",
    "while(m>-S):\n",
    "    ele=math.sqrt(S*(S+1)-m*(m-1))\n",
    "    diag1=np.append(diag1,ele)\n",
    "    m=m-1\n",
    "\n",
    "diag2=np.array([])\n",
    "p=S-1\n",
    "while(p>=-S):\n",
    "    ele=math.sqrt(S*(S+1)-p*(p+1))\n",
    "    diag2=np.append(diag2,ele)\n",
    "    p=p-1\n",
    "\n",
    "diagonals = [diag2,diag1] \n",
    "A =scipy.sparse.diags(diagonals, [-1,1], format='csc')\n",
    "C=A.toarray()\n",
    "\n",
    "print(C)"
   ]
  },
  {
   "cell_type": "code",
   "execution_count": null,
   "metadata": {},
   "outputs": [],
   "source": []
  }
 ],
 "metadata": {
  "kernelspec": {
   "display_name": "Python 3",
   "language": "python",
   "name": "python3"
  },
  "language_info": {
   "codemirror_mode": {
    "name": "ipython",
    "version": 3
   },
   "file_extension": ".py",
   "mimetype": "text/x-python",
   "name": "python",
   "nbconvert_exporter": "python",
   "pygments_lexer": "ipython3",
   "version": "3.5.5"
  }
 },
 "nbformat": 4,
 "nbformat_minor": 4
}
